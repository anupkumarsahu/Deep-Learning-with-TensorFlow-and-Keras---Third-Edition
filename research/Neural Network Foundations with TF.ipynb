{
 "cells": [
  {
   "cell_type": "code",
   "execution_count": 21,
   "metadata": {
    "tags": []
   },
   "outputs": [],
   "source": [
    "import tensorflow as tf\n",
    "import numpy as np\n",
    "from tensorflow import keras"
   ]
  },
  {
   "cell_type": "markdown",
   "metadata": {},
   "source": [
    "## Network and training parameters"
   ]
  },
  {
   "cell_type": "code",
   "execution_count": 22,
   "metadata": {
    "tags": []
   },
   "outputs": [],
   "source": [
    "\n",
    "EPOCHS = 200\n",
    "BATCH_SIZE = 128\n",
    "VERBOSE = 1\n",
    "NB_CLASSES = 10 # number of outputs = number of digits\n",
    "N_HIDDEN = 128\n",
    "VALIDATION_SPLIT = 0.2 # how much TRAIN is reserver for VALIDATION\n"
   ]
  },
  {
   "cell_type": "markdown",
   "metadata": {},
   "source": [
    "## Loading MNIST dataset\n",
    "verify\n",
    "You can verify that the split between train and test is 60,000, and 10,000 respectively. \n",
    "Labels have one-hot representation.is automatically applied"
   ]
  },
  {
   "cell_type": "code",
   "execution_count": 23,
   "metadata": {},
   "outputs": [],
   "source": [
    "mnist = keras.datasets.mnist\n",
    "(X_train, Y_train), (X_test, Y_test) = mnist.load_data()"
   ]
  },
  {
   "cell_type": "code",
   "execution_count": 24,
   "metadata": {},
   "outputs": [
    {
     "data": {
      "text/plain": [
       "(60000, 28, 28)"
      ]
     },
     "execution_count": 24,
     "metadata": {},
     "output_type": "execute_result"
    }
   ],
   "source": [
    "X_train.shape"
   ]
  },
  {
   "cell_type": "code",
   "execution_count": 25,
   "metadata": {},
   "outputs": [
    {
     "data": {
      "text/plain": [
       "(60000,)"
      ]
     },
     "execution_count": 25,
     "metadata": {},
     "output_type": "execute_result"
    }
   ],
   "source": [
    "Y_train.shape"
   ]
  },
  {
   "cell_type": "code",
   "execution_count": 26,
   "metadata": {},
   "outputs": [],
   "source": [
    "# X_train is 60000 rows of 28x28 values; we  --> reshape it to 60000 x 784.\n",
    "RESHAPED = 784"
   ]
  },
  {
   "cell_type": "code",
   "execution_count": 27,
   "metadata": {},
   "outputs": [],
   "source": [
    "X_train = X_train.reshape(60000, RESHAPED)\n",
    "X_test = X_test.reshape(10000, RESHAPED)\n",
    "X_train = X_train.astype('float32')\n",
    "X_test = X_test.astype('float32')"
   ]
  },
  {
   "cell_type": "code",
   "execution_count": 28,
   "metadata": {},
   "outputs": [
    {
     "data": {
      "text/plain": [
       "(60000, 784)"
      ]
     },
     "execution_count": 28,
     "metadata": {},
     "output_type": "execute_result"
    }
   ],
   "source": [
    "X_train.shape"
   ]
  },
  {
   "cell_type": "code",
   "execution_count": 29,
   "metadata": {},
   "outputs": [
    {
     "data": {
      "text/plain": [
       "<function ndarray.astype>"
      ]
     },
     "execution_count": 29,
     "metadata": {},
     "output_type": "execute_result"
    }
   ],
   "source": [
    "X_train.astype"
   ]
  },
  {
   "cell_type": "code",
   "execution_count": 30,
   "metadata": {},
   "outputs": [],
   "source": [
    "# Normalize inputs to be within in [0, 1]\n",
    "X_train /= 255\n",
    "X_test /= 255"
   ]
  },
  {
   "cell_type": "code",
   "execution_count": 31,
   "metadata": {},
   "outputs": [
    {
     "name": "stdout",
     "output_type": "stream",
     "text": [
      "60000 train samples\n",
      "10000 test samples\n"
     ]
    }
   ],
   "source": [
    "print(X_train.shape[0], 'train samples')\n",
    "print(X_test.shape[0], 'test samples')"
   ]
  },
  {
   "cell_type": "code",
   "execution_count": 32,
   "metadata": {},
   "outputs": [],
   "source": [
    "# One-hot representation of the labels.\n",
    "Y_train = tf.keras.utils.to_categorical(Y_train, NB_CLASSES)\n",
    "Y_test = tf.keras.utils.to_categorical(Y_test, NB_CLASSES)"
   ]
  },
  {
   "cell_type": "code",
   "execution_count": 33,
   "metadata": {},
   "outputs": [
    {
     "name": "stdout",
     "output_type": "stream",
     "text": [
      "60000 train samples\n",
      "10000 test samples\n"
     ]
    }
   ],
   "source": [
    "print(Y_train.shape[0], 'train samples')\n",
    "print(Y_test.shape[0], 'test samples')"
   ]
  },
  {
   "cell_type": "code",
   "execution_count": 34,
   "metadata": {},
   "outputs": [
    {
     "data": {
      "text/plain": [
       "array([[0., 0., 0., 0., 0., 1., 0., 0., 0., 0.],\n",
       "       [1., 0., 0., 0., 0., 0., 0., 0., 0., 0.],\n",
       "       [0., 0., 0., 0., 1., 0., 0., 0., 0., 0.],\n",
       "       [0., 1., 0., 0., 0., 0., 0., 0., 0., 0.],\n",
       "       [0., 0., 0., 0., 0., 0., 0., 0., 0., 1.]], dtype=float32)"
      ]
     },
     "execution_count": 34,
     "metadata": {},
     "output_type": "execute_result"
    }
   ],
   "source": [
    "Y_train[0:5]"
   ]
  },
  {
   "cell_type": "code",
   "execution_count": 35,
   "metadata": {},
   "outputs": [],
   "source": [
    "# Build the model.\n",
    "model = tf.keras.models.Sequential()\n",
    "model.add(keras.layers.Dense(NB_CLASSES, input_shape=(RESHAPED,), name='dense_layer', activation='softmax'))"
   ]
  },
  {
   "cell_type": "code",
   "execution_count": 36,
   "metadata": {},
   "outputs": [],
   "source": [
    "model.compile(optimizer='SGD', loss='categorical_crossentropy', metrics=['accuracy'])"
   ]
  },
  {
   "cell_type": "code",
   "execution_count": 37,
   "metadata": {},
   "outputs": [
    {
     "name": "stdout",
     "output_type": "stream",
     "text": [
      "Epoch 1/200\n"
     ]
    },
    {
     "name": "stdout",
     "output_type": "stream",
     "text": [
      "375/375 [==============================] - 2s 3ms/step - loss: 1.3751 - accuracy: 0.6685 - val_loss: 0.8919 - val_accuracy: 0.8247\n",
      "Epoch 2/200\n",
      "375/375 [==============================] - 1s 3ms/step - loss: 0.7958 - accuracy: 0.8266 - val_loss: 0.6573 - val_accuracy: 0.8553\n",
      "Epoch 3/200\n",
      "375/375 [==============================] - 1s 2ms/step - loss: 0.6461 - accuracy: 0.8490 - val_loss: 0.5621 - val_accuracy: 0.8696\n",
      "Epoch 4/200\n",
      "375/375 [==============================] - 1s 2ms/step - loss: 0.5733 - accuracy: 0.8607 - val_loss: 0.5094 - val_accuracy: 0.8774\n",
      "Epoch 5/200\n",
      "375/375 [==============================] - 1s 2ms/step - loss: 0.5289 - accuracy: 0.8676 - val_loss: 0.4751 - val_accuracy: 0.8830\n",
      "Epoch 6/200\n",
      "375/375 [==============================] - 1s 2ms/step - loss: 0.4983 - accuracy: 0.8732 - val_loss: 0.4510 - val_accuracy: 0.8876\n",
      "Epoch 7/200\n",
      "375/375 [==============================] - 1s 2ms/step - loss: 0.4756 - accuracy: 0.8779 - val_loss: 0.4328 - val_accuracy: 0.8899\n",
      "Epoch 8/200\n",
      "375/375 [==============================] - 1s 2ms/step - loss: 0.4580 - accuracy: 0.8807 - val_loss: 0.4186 - val_accuracy: 0.8909\n",
      "Epoch 9/200\n",
      "375/375 [==============================] - 1s 2ms/step - loss: 0.4439 - accuracy: 0.8834 - val_loss: 0.4070 - val_accuracy: 0.8938\n",
      "Epoch 10/200\n",
      "375/375 [==============================] - 1s 2ms/step - loss: 0.4322 - accuracy: 0.8862 - val_loss: 0.3973 - val_accuracy: 0.8953\n",
      "Epoch 11/200\n",
      "375/375 [==============================] - 1s 2ms/step - loss: 0.4222 - accuracy: 0.8880 - val_loss: 0.3891 - val_accuracy: 0.8977\n",
      "Epoch 12/200\n",
      "375/375 [==============================] - 1s 2ms/step - loss: 0.4137 - accuracy: 0.8897 - val_loss: 0.3820 - val_accuracy: 0.8992\n",
      "Epoch 13/200\n",
      "375/375 [==============================] - 1s 2ms/step - loss: 0.4063 - accuracy: 0.8910 - val_loss: 0.3759 - val_accuracy: 0.8998\n",
      "Epoch 14/200\n",
      "375/375 [==============================] - 1s 2ms/step - loss: 0.3997 - accuracy: 0.8919 - val_loss: 0.3705 - val_accuracy: 0.9013\n",
      "Epoch 15/200\n",
      "375/375 [==============================] - 1s 2ms/step - loss: 0.3939 - accuracy: 0.8934 - val_loss: 0.3659 - val_accuracy: 0.9019\n",
      "Epoch 16/200\n",
      "375/375 [==============================] - 1s 2ms/step - loss: 0.3887 - accuracy: 0.8942 - val_loss: 0.3614 - val_accuracy: 0.9030\n",
      "Epoch 17/200\n",
      "375/375 [==============================] - 1s 2ms/step - loss: 0.3840 - accuracy: 0.8955 - val_loss: 0.3575 - val_accuracy: 0.9035\n",
      "Epoch 18/200\n",
      "375/375 [==============================] - 1s 2ms/step - loss: 0.3796 - accuracy: 0.8965 - val_loss: 0.3540 - val_accuracy: 0.9043\n",
      "Epoch 19/200\n",
      "375/375 [==============================] - 1s 2ms/step - loss: 0.3757 - accuracy: 0.8975 - val_loss: 0.3508 - val_accuracy: 0.9049\n",
      "Epoch 20/200\n",
      "375/375 [==============================] - 1s 2ms/step - loss: 0.3721 - accuracy: 0.8988 - val_loss: 0.3479 - val_accuracy: 0.9059\n",
      "Epoch 21/200\n",
      "375/375 [==============================] - 1s 2ms/step - loss: 0.3687 - accuracy: 0.8991 - val_loss: 0.3450 - val_accuracy: 0.9070\n",
      "Epoch 22/200\n",
      "375/375 [==============================] - 1s 2ms/step - loss: 0.3656 - accuracy: 0.9002 - val_loss: 0.3425 - val_accuracy: 0.9064\n",
      "Epoch 23/200\n",
      "375/375 [==============================] - 1s 2ms/step - loss: 0.3627 - accuracy: 0.9006 - val_loss: 0.3402 - val_accuracy: 0.9079\n",
      "Epoch 24/200\n",
      "375/375 [==============================] - 1s 2ms/step - loss: 0.3599 - accuracy: 0.9009 - val_loss: 0.3379 - val_accuracy: 0.9078\n",
      "Epoch 25/200\n",
      "375/375 [==============================] - 1s 2ms/step - loss: 0.3574 - accuracy: 0.9017 - val_loss: 0.3357 - val_accuracy: 0.9082\n",
      "Epoch 26/200\n",
      "375/375 [==============================] - 1s 2ms/step - loss: 0.3550 - accuracy: 0.9025 - val_loss: 0.3339 - val_accuracy: 0.9084\n",
      "Epoch 27/200\n",
      "375/375 [==============================] - 1s 3ms/step - loss: 0.3527 - accuracy: 0.9028 - val_loss: 0.3320 - val_accuracy: 0.9082\n",
      "Epoch 28/200\n",
      "375/375 [==============================] - 1s 3ms/step - loss: 0.3506 - accuracy: 0.9034 - val_loss: 0.3302 - val_accuracy: 0.9085\n",
      "Epoch 29/200\n",
      "375/375 [==============================] - 1s 3ms/step - loss: 0.3486 - accuracy: 0.9037 - val_loss: 0.3286 - val_accuracy: 0.9089\n",
      "Epoch 30/200\n",
      "375/375 [==============================] - 1s 2ms/step - loss: 0.3466 - accuracy: 0.9040 - val_loss: 0.3271 - val_accuracy: 0.9095\n",
      "Epoch 31/200\n",
      "375/375 [==============================] - 1s 2ms/step - loss: 0.3448 - accuracy: 0.9045 - val_loss: 0.3256 - val_accuracy: 0.9102\n",
      "Epoch 32/200\n",
      "375/375 [==============================] - 1s 2ms/step - loss: 0.3430 - accuracy: 0.9053 - val_loss: 0.3242 - val_accuracy: 0.9104\n",
      "Epoch 33/200\n",
      "375/375 [==============================] - 1s 2ms/step - loss: 0.3414 - accuracy: 0.9055 - val_loss: 0.3229 - val_accuracy: 0.9115\n",
      "Epoch 34/200\n",
      "375/375 [==============================] - 1s 2ms/step - loss: 0.3398 - accuracy: 0.9057 - val_loss: 0.3217 - val_accuracy: 0.9109\n",
      "Epoch 35/200\n",
      "375/375 [==============================] - 1s 2ms/step - loss: 0.3383 - accuracy: 0.9061 - val_loss: 0.3206 - val_accuracy: 0.9107\n",
      "Epoch 36/200\n",
      "375/375 [==============================] - 1s 3ms/step - loss: 0.3368 - accuracy: 0.9064 - val_loss: 0.3192 - val_accuracy: 0.9119\n",
      "Epoch 37/200\n",
      "375/375 [==============================] - 1s 2ms/step - loss: 0.3355 - accuracy: 0.9065 - val_loss: 0.3181 - val_accuracy: 0.9122\n",
      "Epoch 38/200\n",
      "375/375 [==============================] - 1s 2ms/step - loss: 0.3341 - accuracy: 0.9068 - val_loss: 0.3170 - val_accuracy: 0.9122\n",
      "Epoch 39/200\n",
      "375/375 [==============================] - 1s 2ms/step - loss: 0.3328 - accuracy: 0.9074 - val_loss: 0.3160 - val_accuracy: 0.9128\n",
      "Epoch 40/200\n",
      "375/375 [==============================] - 1s 3ms/step - loss: 0.3316 - accuracy: 0.9078 - val_loss: 0.3150 - val_accuracy: 0.9124\n",
      "Epoch 41/200\n",
      "375/375 [==============================] - 1s 2ms/step - loss: 0.3304 - accuracy: 0.9083 - val_loss: 0.3140 - val_accuracy: 0.9134\n",
      "Epoch 42/200\n",
      "375/375 [==============================] - 1s 3ms/step - loss: 0.3293 - accuracy: 0.9082 - val_loss: 0.3131 - val_accuracy: 0.9134\n",
      "Epoch 43/200\n",
      "375/375 [==============================] - 1s 3ms/step - loss: 0.3281 - accuracy: 0.9089 - val_loss: 0.3122 - val_accuracy: 0.9131\n",
      "Epoch 44/200\n",
      "375/375 [==============================] - 1s 2ms/step - loss: 0.3270 - accuracy: 0.9090 - val_loss: 0.3114 - val_accuracy: 0.9135\n",
      "Epoch 45/200\n",
      "375/375 [==============================] - 1s 2ms/step - loss: 0.3260 - accuracy: 0.9092 - val_loss: 0.3106 - val_accuracy: 0.9134\n",
      "Epoch 46/200\n",
      "375/375 [==============================] - 1s 3ms/step - loss: 0.3250 - accuracy: 0.9096 - val_loss: 0.3098 - val_accuracy: 0.9138\n",
      "Epoch 47/200\n",
      "375/375 [==============================] - 1s 3ms/step - loss: 0.3240 - accuracy: 0.9099 - val_loss: 0.3092 - val_accuracy: 0.9137\n",
      "Epoch 48/200\n",
      "375/375 [==============================] - 1s 3ms/step - loss: 0.3231 - accuracy: 0.9102 - val_loss: 0.3083 - val_accuracy: 0.9140\n",
      "Epoch 49/200\n",
      "375/375 [==============================] - 1s 2ms/step - loss: 0.3222 - accuracy: 0.9103 - val_loss: 0.3076 - val_accuracy: 0.9145\n",
      "Epoch 50/200\n",
      "375/375 [==============================] - 1s 3ms/step - loss: 0.3213 - accuracy: 0.9105 - val_loss: 0.3069 - val_accuracy: 0.9143\n",
      "Epoch 51/200\n",
      "375/375 [==============================] - 1s 3ms/step - loss: 0.3205 - accuracy: 0.9108 - val_loss: 0.3062 - val_accuracy: 0.9146\n",
      "Epoch 52/200\n",
      "375/375 [==============================] - 1s 3ms/step - loss: 0.3196 - accuracy: 0.9111 - val_loss: 0.3056 - val_accuracy: 0.9150\n",
      "Epoch 53/200\n",
      "375/375 [==============================] - 1s 3ms/step - loss: 0.3188 - accuracy: 0.9112 - val_loss: 0.3050 - val_accuracy: 0.9149\n",
      "Epoch 54/200\n",
      "375/375 [==============================] - 1s 3ms/step - loss: 0.3180 - accuracy: 0.9114 - val_loss: 0.3043 - val_accuracy: 0.9146\n",
      "Epoch 55/200\n",
      "375/375 [==============================] - 1s 3ms/step - loss: 0.3172 - accuracy: 0.9118 - val_loss: 0.3038 - val_accuracy: 0.9149\n",
      "Epoch 56/200\n",
      "375/375 [==============================] - 1s 3ms/step - loss: 0.3165 - accuracy: 0.9121 - val_loss: 0.3032 - val_accuracy: 0.9154\n",
      "Epoch 57/200\n",
      "375/375 [==============================] - 1s 2ms/step - loss: 0.3157 - accuracy: 0.9122 - val_loss: 0.3025 - val_accuracy: 0.9158\n",
      "Epoch 58/200\n",
      "375/375 [==============================] - 1s 3ms/step - loss: 0.3151 - accuracy: 0.9125 - val_loss: 0.3020 - val_accuracy: 0.9158\n",
      "Epoch 59/200\n",
      "375/375 [==============================] - 1s 3ms/step - loss: 0.3143 - accuracy: 0.9126 - val_loss: 0.3015 - val_accuracy: 0.9159\n",
      "Epoch 60/200\n",
      "375/375 [==============================] - 1s 3ms/step - loss: 0.3137 - accuracy: 0.9129 - val_loss: 0.3009 - val_accuracy: 0.9158\n",
      "Epoch 61/200\n",
      "375/375 [==============================] - 1s 3ms/step - loss: 0.3130 - accuracy: 0.9131 - val_loss: 0.3005 - val_accuracy: 0.9162\n",
      "Epoch 62/200\n",
      "375/375 [==============================] - 1s 2ms/step - loss: 0.3123 - accuracy: 0.9137 - val_loss: 0.3003 - val_accuracy: 0.9156\n",
      "Epoch 63/200\n",
      "375/375 [==============================] - 1s 2ms/step - loss: 0.3117 - accuracy: 0.9132 - val_loss: 0.2995 - val_accuracy: 0.9160\n",
      "Epoch 64/200\n",
      "375/375 [==============================] - 1s 2ms/step - loss: 0.3111 - accuracy: 0.9136 - val_loss: 0.2991 - val_accuracy: 0.9158\n",
      "Epoch 65/200\n",
      "375/375 [==============================] - 1s 3ms/step - loss: 0.3105 - accuracy: 0.9138 - val_loss: 0.2986 - val_accuracy: 0.9165\n",
      "Epoch 66/200\n",
      "375/375 [==============================] - 1s 3ms/step - loss: 0.3099 - accuracy: 0.9140 - val_loss: 0.2982 - val_accuracy: 0.9162\n",
      "Epoch 67/200\n",
      "375/375 [==============================] - 1s 2ms/step - loss: 0.3094 - accuracy: 0.9140 - val_loss: 0.2976 - val_accuracy: 0.9166\n",
      "Epoch 68/200\n",
      "375/375 [==============================] - 1s 3ms/step - loss: 0.3088 - accuracy: 0.9140 - val_loss: 0.2972 - val_accuracy: 0.9168\n",
      "Epoch 69/200\n",
      "375/375 [==============================] - 1s 3ms/step - loss: 0.3083 - accuracy: 0.9141 - val_loss: 0.2969 - val_accuracy: 0.9168\n",
      "Epoch 70/200\n",
      "375/375 [==============================] - 1s 3ms/step - loss: 0.3077 - accuracy: 0.9146 - val_loss: 0.2965 - val_accuracy: 0.9168\n",
      "Epoch 71/200\n",
      "375/375 [==============================] - 1s 2ms/step - loss: 0.3072 - accuracy: 0.9145 - val_loss: 0.2961 - val_accuracy: 0.9166\n",
      "Epoch 72/200\n",
      "375/375 [==============================] - 1s 3ms/step - loss: 0.3067 - accuracy: 0.9146 - val_loss: 0.2957 - val_accuracy: 0.9167\n",
      "Epoch 73/200\n",
      "375/375 [==============================] - 1s 3ms/step - loss: 0.3062 - accuracy: 0.9147 - val_loss: 0.2953 - val_accuracy: 0.9171\n",
      "Epoch 74/200\n",
      "375/375 [==============================] - 1s 3ms/step - loss: 0.3056 - accuracy: 0.9151 - val_loss: 0.2950 - val_accuracy: 0.9172\n",
      "Epoch 75/200\n",
      "375/375 [==============================] - 1s 2ms/step - loss: 0.3051 - accuracy: 0.9151 - val_loss: 0.2947 - val_accuracy: 0.9171\n",
      "Epoch 76/200\n",
      "375/375 [==============================] - 1s 3ms/step - loss: 0.3047 - accuracy: 0.9154 - val_loss: 0.2943 - val_accuracy: 0.9178\n",
      "Epoch 77/200\n",
      "375/375 [==============================] - 1s 3ms/step - loss: 0.3042 - accuracy: 0.9155 - val_loss: 0.2940 - val_accuracy: 0.9178\n",
      "Epoch 78/200\n",
      "375/375 [==============================] - 1s 3ms/step - loss: 0.3038 - accuracy: 0.9155 - val_loss: 0.2936 - val_accuracy: 0.9181\n",
      "Epoch 79/200\n",
      "375/375 [==============================] - 1s 3ms/step - loss: 0.3033 - accuracy: 0.9156 - val_loss: 0.2932 - val_accuracy: 0.9183\n",
      "Epoch 80/200\n",
      "375/375 [==============================] - 1s 3ms/step - loss: 0.3029 - accuracy: 0.9157 - val_loss: 0.2929 - val_accuracy: 0.9183\n",
      "Epoch 81/200\n",
      "375/375 [==============================] - 1s 3ms/step - loss: 0.3025 - accuracy: 0.9159 - val_loss: 0.2926 - val_accuracy: 0.9183\n",
      "Epoch 82/200\n",
      "375/375 [==============================] - 1s 3ms/step - loss: 0.3020 - accuracy: 0.9160 - val_loss: 0.2923 - val_accuracy: 0.9182\n",
      "Epoch 83/200\n",
      "375/375 [==============================] - 1s 2ms/step - loss: 0.3016 - accuracy: 0.9162 - val_loss: 0.2919 - val_accuracy: 0.9184\n",
      "Epoch 84/200\n",
      "375/375 [==============================] - 1s 3ms/step - loss: 0.3012 - accuracy: 0.9162 - val_loss: 0.2916 - val_accuracy: 0.9182\n",
      "Epoch 85/200\n",
      "375/375 [==============================] - 1s 2ms/step - loss: 0.3008 - accuracy: 0.9163 - val_loss: 0.2913 - val_accuracy: 0.9186\n",
      "Epoch 86/200\n",
      "375/375 [==============================] - 1s 3ms/step - loss: 0.3004 - accuracy: 0.9165 - val_loss: 0.2911 - val_accuracy: 0.9185\n",
      "Epoch 87/200\n",
      "375/375 [==============================] - 1s 3ms/step - loss: 0.3000 - accuracy: 0.9165 - val_loss: 0.2907 - val_accuracy: 0.9187\n",
      "Epoch 88/200\n",
      "375/375 [==============================] - 1s 2ms/step - loss: 0.2996 - accuracy: 0.9168 - val_loss: 0.2906 - val_accuracy: 0.9188\n",
      "Epoch 89/200\n",
      "375/375 [==============================] - 1s 2ms/step - loss: 0.2992 - accuracy: 0.9169 - val_loss: 0.2902 - val_accuracy: 0.9189\n",
      "Epoch 90/200\n",
      "375/375 [==============================] - 1s 3ms/step - loss: 0.2989 - accuracy: 0.9169 - val_loss: 0.2900 - val_accuracy: 0.9193\n",
      "Epoch 91/200\n",
      "375/375 [==============================] - 1s 3ms/step - loss: 0.2985 - accuracy: 0.9167 - val_loss: 0.2897 - val_accuracy: 0.9190\n",
      "Epoch 92/200\n",
      "375/375 [==============================] - 1s 3ms/step - loss: 0.2981 - accuracy: 0.9169 - val_loss: 0.2894 - val_accuracy: 0.9190\n",
      "Epoch 93/200\n",
      "375/375 [==============================] - 1s 3ms/step - loss: 0.2978 - accuracy: 0.9171 - val_loss: 0.2892 - val_accuracy: 0.9192\n",
      "Epoch 94/200\n",
      "375/375 [==============================] - 1s 2ms/step - loss: 0.2974 - accuracy: 0.9174 - val_loss: 0.2890 - val_accuracy: 0.9192\n",
      "Epoch 95/200\n",
      "375/375 [==============================] - 1s 3ms/step - loss: 0.2971 - accuracy: 0.9175 - val_loss: 0.2887 - val_accuracy: 0.9192\n",
      "Epoch 96/200\n",
      "375/375 [==============================] - 1s 3ms/step - loss: 0.2967 - accuracy: 0.9173 - val_loss: 0.2885 - val_accuracy: 0.9189\n",
      "Epoch 97/200\n",
      "375/375 [==============================] - 1s 3ms/step - loss: 0.2964 - accuracy: 0.9174 - val_loss: 0.2882 - val_accuracy: 0.9193\n",
      "Epoch 98/200\n",
      "375/375 [==============================] - 1s 3ms/step - loss: 0.2961 - accuracy: 0.9175 - val_loss: 0.2880 - val_accuracy: 0.9195\n",
      "Epoch 99/200\n",
      "375/375 [==============================] - 1s 3ms/step - loss: 0.2958 - accuracy: 0.9176 - val_loss: 0.2877 - val_accuracy: 0.9196\n",
      "Epoch 100/200\n",
      "375/375 [==============================] - 1s 3ms/step - loss: 0.2954 - accuracy: 0.9180 - val_loss: 0.2875 - val_accuracy: 0.9198\n",
      "Epoch 101/200\n",
      "375/375 [==============================] - 1s 3ms/step - loss: 0.2951 - accuracy: 0.9179 - val_loss: 0.2873 - val_accuracy: 0.9196\n",
      "Epoch 102/200\n",
      "375/375 [==============================] - 1s 3ms/step - loss: 0.2947 - accuracy: 0.9180 - val_loss: 0.2871 - val_accuracy: 0.9194\n",
      "Epoch 103/200\n",
      "375/375 [==============================] - 1s 3ms/step - loss: 0.2945 - accuracy: 0.9181 - val_loss: 0.2868 - val_accuracy: 0.9194\n",
      "Epoch 104/200\n",
      "375/375 [==============================] - 1s 2ms/step - loss: 0.2942 - accuracy: 0.9182 - val_loss: 0.2866 - val_accuracy: 0.9194\n",
      "Epoch 105/200\n",
      "375/375 [==============================] - 1s 3ms/step - loss: 0.2939 - accuracy: 0.9182 - val_loss: 0.2865 - val_accuracy: 0.9193\n",
      "Epoch 106/200\n",
      "375/375 [==============================] - 1s 2ms/step - loss: 0.2936 - accuracy: 0.9181 - val_loss: 0.2863 - val_accuracy: 0.9193\n",
      "Epoch 107/200\n",
      "375/375 [==============================] - 1s 2ms/step - loss: 0.2933 - accuracy: 0.9184 - val_loss: 0.2861 - val_accuracy: 0.9199\n",
      "Epoch 108/200\n",
      "375/375 [==============================] - 1s 3ms/step - loss: 0.2930 - accuracy: 0.9185 - val_loss: 0.2859 - val_accuracy: 0.9201\n",
      "Epoch 109/200\n",
      "375/375 [==============================] - 1s 3ms/step - loss: 0.2927 - accuracy: 0.9186 - val_loss: 0.2857 - val_accuracy: 0.9203\n",
      "Epoch 110/200\n",
      "375/375 [==============================] - 1s 3ms/step - loss: 0.2924 - accuracy: 0.9187 - val_loss: 0.2855 - val_accuracy: 0.9204\n",
      "Epoch 111/200\n",
      "375/375 [==============================] - 1s 3ms/step - loss: 0.2922 - accuracy: 0.9189 - val_loss: 0.2853 - val_accuracy: 0.9201\n",
      "Epoch 112/200\n",
      "375/375 [==============================] - 1s 3ms/step - loss: 0.2919 - accuracy: 0.9187 - val_loss: 0.2851 - val_accuracy: 0.9201\n",
      "Epoch 113/200\n",
      "375/375 [==============================] - 1s 3ms/step - loss: 0.2916 - accuracy: 0.9186 - val_loss: 0.2849 - val_accuracy: 0.9199\n",
      "Epoch 114/200\n",
      "375/375 [==============================] - 1s 3ms/step - loss: 0.2914 - accuracy: 0.9191 - val_loss: 0.2848 - val_accuracy: 0.9200\n",
      "Epoch 115/200\n",
      "375/375 [==============================] - 1s 2ms/step - loss: 0.2911 - accuracy: 0.9189 - val_loss: 0.2846 - val_accuracy: 0.9202\n",
      "Epoch 116/200\n",
      "375/375 [==============================] - 1s 2ms/step - loss: 0.2909 - accuracy: 0.9191 - val_loss: 0.2843 - val_accuracy: 0.9199\n",
      "Epoch 117/200\n",
      "375/375 [==============================] - 1s 3ms/step - loss: 0.2906 - accuracy: 0.9190 - val_loss: 0.2842 - val_accuracy: 0.9202\n",
      "Epoch 118/200\n",
      "375/375 [==============================] - 1s 3ms/step - loss: 0.2903 - accuracy: 0.9193 - val_loss: 0.2840 - val_accuracy: 0.9202\n",
      "Epoch 119/200\n",
      "375/375 [==============================] - 1s 3ms/step - loss: 0.2901 - accuracy: 0.9194 - val_loss: 0.2838 - val_accuracy: 0.9210\n",
      "Epoch 120/200\n",
      "375/375 [==============================] - 1s 3ms/step - loss: 0.2898 - accuracy: 0.9195 - val_loss: 0.2836 - val_accuracy: 0.9203\n",
      "Epoch 121/200\n",
      "375/375 [==============================] - 1s 3ms/step - loss: 0.2896 - accuracy: 0.9193 - val_loss: 0.2834 - val_accuracy: 0.9203\n",
      "Epoch 122/200\n",
      "375/375 [==============================] - 1s 2ms/step - loss: 0.2894 - accuracy: 0.9195 - val_loss: 0.2833 - val_accuracy: 0.9206\n",
      "Epoch 123/200\n",
      "375/375 [==============================] - 1s 3ms/step - loss: 0.2891 - accuracy: 0.9195 - val_loss: 0.2832 - val_accuracy: 0.9205\n",
      "Epoch 124/200\n",
      "375/375 [==============================] - 1s 3ms/step - loss: 0.2889 - accuracy: 0.9195 - val_loss: 0.2830 - val_accuracy: 0.9204\n",
      "Epoch 125/200\n",
      "375/375 [==============================] - 1s 3ms/step - loss: 0.2887 - accuracy: 0.9196 - val_loss: 0.2828 - val_accuracy: 0.9205\n",
      "Epoch 126/200\n",
      "375/375 [==============================] - 1s 3ms/step - loss: 0.2884 - accuracy: 0.9195 - val_loss: 0.2828 - val_accuracy: 0.9208\n",
      "Epoch 127/200\n",
      "375/375 [==============================] - 1s 3ms/step - loss: 0.2882 - accuracy: 0.9199 - val_loss: 0.2825 - val_accuracy: 0.9211\n",
      "Epoch 128/200\n",
      "375/375 [==============================] - 1s 3ms/step - loss: 0.2880 - accuracy: 0.9195 - val_loss: 0.2824 - val_accuracy: 0.9210\n",
      "Epoch 129/200\n",
      "375/375 [==============================] - 1s 3ms/step - loss: 0.2877 - accuracy: 0.9198 - val_loss: 0.2823 - val_accuracy: 0.9211\n",
      "Epoch 130/200\n",
      "375/375 [==============================] - 1s 3ms/step - loss: 0.2875 - accuracy: 0.9200 - val_loss: 0.2821 - val_accuracy: 0.9212\n",
      "Epoch 131/200\n",
      "375/375 [==============================] - 1s 3ms/step - loss: 0.2873 - accuracy: 0.9198 - val_loss: 0.2820 - val_accuracy: 0.9216\n",
      "Epoch 132/200\n",
      "375/375 [==============================] - 1s 3ms/step - loss: 0.2871 - accuracy: 0.9201 - val_loss: 0.2819 - val_accuracy: 0.9213\n",
      "Epoch 133/200\n",
      "375/375 [==============================] - 1s 3ms/step - loss: 0.2869 - accuracy: 0.9199 - val_loss: 0.2817 - val_accuracy: 0.9212\n",
      "Epoch 134/200\n",
      "375/375 [==============================] - 1s 3ms/step - loss: 0.2867 - accuracy: 0.9200 - val_loss: 0.2816 - val_accuracy: 0.9213\n",
      "Epoch 135/200\n",
      "375/375 [==============================] - 1s 3ms/step - loss: 0.2865 - accuracy: 0.9202 - val_loss: 0.2814 - val_accuracy: 0.9212\n",
      "Epoch 136/200\n",
      "375/375 [==============================] - 1s 3ms/step - loss: 0.2863 - accuracy: 0.9204 - val_loss: 0.2812 - val_accuracy: 0.9217\n",
      "Epoch 137/200\n",
      "375/375 [==============================] - 1s 3ms/step - loss: 0.2860 - accuracy: 0.9202 - val_loss: 0.2811 - val_accuracy: 0.9219\n",
      "Epoch 138/200\n",
      "375/375 [==============================] - 1s 3ms/step - loss: 0.2859 - accuracy: 0.9204 - val_loss: 0.2810 - val_accuracy: 0.9222\n",
      "Epoch 139/200\n",
      "375/375 [==============================] - 1s 3ms/step - loss: 0.2857 - accuracy: 0.9205 - val_loss: 0.2809 - val_accuracy: 0.9219\n",
      "Epoch 140/200\n",
      "375/375 [==============================] - 1s 3ms/step - loss: 0.2854 - accuracy: 0.9203 - val_loss: 0.2808 - val_accuracy: 0.9212\n",
      "Epoch 141/200\n",
      "375/375 [==============================] - 1s 3ms/step - loss: 0.2852 - accuracy: 0.9206 - val_loss: 0.2806 - val_accuracy: 0.9218\n",
      "Epoch 142/200\n",
      "375/375 [==============================] - 1s 2ms/step - loss: 0.2851 - accuracy: 0.9206 - val_loss: 0.2805 - val_accuracy: 0.9221\n",
      "Epoch 143/200\n",
      "375/375 [==============================] - 1s 3ms/step - loss: 0.2849 - accuracy: 0.9206 - val_loss: 0.2804 - val_accuracy: 0.9216\n",
      "Epoch 144/200\n",
      "375/375 [==============================] - 1s 3ms/step - loss: 0.2847 - accuracy: 0.9208 - val_loss: 0.2802 - val_accuracy: 0.9218\n",
      "Epoch 145/200\n",
      "375/375 [==============================] - 1s 3ms/step - loss: 0.2845 - accuracy: 0.9209 - val_loss: 0.2802 - val_accuracy: 0.9221\n",
      "Epoch 146/200\n",
      "375/375 [==============================] - 1s 3ms/step - loss: 0.2843 - accuracy: 0.9209 - val_loss: 0.2800 - val_accuracy: 0.9218\n",
      "Epoch 147/200\n",
      "375/375 [==============================] - 1s 3ms/step - loss: 0.2841 - accuracy: 0.9207 - val_loss: 0.2799 - val_accuracy: 0.9227\n",
      "Epoch 148/200\n",
      "375/375 [==============================] - 1s 2ms/step - loss: 0.2839 - accuracy: 0.9210 - val_loss: 0.2798 - val_accuracy: 0.9225\n",
      "Epoch 149/200\n",
      "375/375 [==============================] - 1s 3ms/step - loss: 0.2838 - accuracy: 0.9212 - val_loss: 0.2796 - val_accuracy: 0.9218\n",
      "Epoch 150/200\n",
      "375/375 [==============================] - 1s 3ms/step - loss: 0.2836 - accuracy: 0.9210 - val_loss: 0.2795 - val_accuracy: 0.9218\n",
      "Epoch 151/200\n",
      "375/375 [==============================] - 1s 3ms/step - loss: 0.2834 - accuracy: 0.9213 - val_loss: 0.2794 - val_accuracy: 0.9224\n",
      "Epoch 152/200\n",
      "375/375 [==============================] - 1s 3ms/step - loss: 0.2832 - accuracy: 0.9214 - val_loss: 0.2793 - val_accuracy: 0.9224\n",
      "Epoch 153/200\n",
      "375/375 [==============================] - 1s 3ms/step - loss: 0.2831 - accuracy: 0.9213 - val_loss: 0.2792 - val_accuracy: 0.9222\n",
      "Epoch 154/200\n",
      "375/375 [==============================] - 1s 3ms/step - loss: 0.2829 - accuracy: 0.9215 - val_loss: 0.2791 - val_accuracy: 0.9228\n",
      "Epoch 155/200\n",
      "375/375 [==============================] - 1s 3ms/step - loss: 0.2827 - accuracy: 0.9212 - val_loss: 0.2790 - val_accuracy: 0.9220\n",
      "Epoch 156/200\n",
      "375/375 [==============================] - 1s 2ms/step - loss: 0.2825 - accuracy: 0.9215 - val_loss: 0.2789 - val_accuracy: 0.9224\n",
      "Epoch 157/200\n",
      "375/375 [==============================] - 1s 2ms/step - loss: 0.2823 - accuracy: 0.9215 - val_loss: 0.2788 - val_accuracy: 0.9225\n",
      "Epoch 158/200\n",
      "375/375 [==============================] - 1s 3ms/step - loss: 0.2822 - accuracy: 0.9216 - val_loss: 0.2788 - val_accuracy: 0.9221\n",
      "Epoch 159/200\n",
      "375/375 [==============================] - 1s 3ms/step - loss: 0.2820 - accuracy: 0.9216 - val_loss: 0.2787 - val_accuracy: 0.9220\n",
      "Epoch 160/200\n",
      "375/375 [==============================] - 1s 3ms/step - loss: 0.2819 - accuracy: 0.9219 - val_loss: 0.2785 - val_accuracy: 0.9228\n",
      "Epoch 161/200\n",
      "375/375 [==============================] - 1s 2ms/step - loss: 0.2817 - accuracy: 0.9218 - val_loss: 0.2784 - val_accuracy: 0.9225\n",
      "Epoch 162/200\n",
      "375/375 [==============================] - 1s 3ms/step - loss: 0.2815 - accuracy: 0.9218 - val_loss: 0.2783 - val_accuracy: 0.9229\n",
      "Epoch 163/200\n",
      "375/375 [==============================] - 1s 3ms/step - loss: 0.2814 - accuracy: 0.9220 - val_loss: 0.2782 - val_accuracy: 0.9225\n",
      "Epoch 164/200\n",
      "375/375 [==============================] - 1s 3ms/step - loss: 0.2812 - accuracy: 0.9219 - val_loss: 0.2781 - val_accuracy: 0.9226\n",
      "Epoch 165/200\n",
      "375/375 [==============================] - 1s 2ms/step - loss: 0.2811 - accuracy: 0.9220 - val_loss: 0.2780 - val_accuracy: 0.9226\n",
      "Epoch 166/200\n",
      "375/375 [==============================] - 1s 3ms/step - loss: 0.2809 - accuracy: 0.9220 - val_loss: 0.2779 - val_accuracy: 0.9221\n",
      "Epoch 167/200\n",
      "375/375 [==============================] - 1s 3ms/step - loss: 0.2807 - accuracy: 0.9221 - val_loss: 0.2779 - val_accuracy: 0.9232\n",
      "Epoch 168/200\n",
      "375/375 [==============================] - 1s 3ms/step - loss: 0.2806 - accuracy: 0.9223 - val_loss: 0.2777 - val_accuracy: 0.9227\n",
      "Epoch 169/200\n",
      "375/375 [==============================] - 1s 3ms/step - loss: 0.2804 - accuracy: 0.9220 - val_loss: 0.2776 - val_accuracy: 0.9230\n",
      "Epoch 170/200\n",
      "375/375 [==============================] - 1s 2ms/step - loss: 0.2803 - accuracy: 0.9221 - val_loss: 0.2775 - val_accuracy: 0.9227\n",
      "Epoch 171/200\n",
      "375/375 [==============================] - 1s 3ms/step - loss: 0.2801 - accuracy: 0.9222 - val_loss: 0.2774 - val_accuracy: 0.9233\n",
      "Epoch 172/200\n",
      "375/375 [==============================] - 1s 3ms/step - loss: 0.2800 - accuracy: 0.9223 - val_loss: 0.2774 - val_accuracy: 0.9233\n",
      "Epoch 173/200\n",
      "375/375 [==============================] - 1s 3ms/step - loss: 0.2798 - accuracy: 0.9222 - val_loss: 0.2772 - val_accuracy: 0.9226\n",
      "Epoch 174/200\n",
      "375/375 [==============================] - 1s 3ms/step - loss: 0.2797 - accuracy: 0.9225 - val_loss: 0.2771 - val_accuracy: 0.9230\n",
      "Epoch 175/200\n",
      "375/375 [==============================] - 1s 3ms/step - loss: 0.2795 - accuracy: 0.9222 - val_loss: 0.2770 - val_accuracy: 0.9228\n",
      "Epoch 176/200\n",
      "375/375 [==============================] - 1s 3ms/step - loss: 0.2794 - accuracy: 0.9223 - val_loss: 0.2771 - val_accuracy: 0.9229\n",
      "Epoch 177/200\n",
      "375/375 [==============================] - 1s 3ms/step - loss: 0.2793 - accuracy: 0.9226 - val_loss: 0.2769 - val_accuracy: 0.9233\n",
      "Epoch 178/200\n",
      "375/375 [==============================] - 1s 2ms/step - loss: 0.2791 - accuracy: 0.9227 - val_loss: 0.2768 - val_accuracy: 0.9229\n",
      "Epoch 179/200\n",
      "375/375 [==============================] - 1s 3ms/step - loss: 0.2790 - accuracy: 0.9227 - val_loss: 0.2768 - val_accuracy: 0.9231\n",
      "Epoch 180/200\n",
      "375/375 [==============================] - 1s 3ms/step - loss: 0.2788 - accuracy: 0.9226 - val_loss: 0.2767 - val_accuracy: 0.9227\n",
      "Epoch 181/200\n",
      "375/375 [==============================] - 1s 3ms/step - loss: 0.2787 - accuracy: 0.9226 - val_loss: 0.2767 - val_accuracy: 0.9229\n",
      "Epoch 182/200\n",
      "375/375 [==============================] - 1s 2ms/step - loss: 0.2785 - accuracy: 0.9226 - val_loss: 0.2765 - val_accuracy: 0.9230\n",
      "Epoch 183/200\n",
      "375/375 [==============================] - 1s 3ms/step - loss: 0.2784 - accuracy: 0.9228 - val_loss: 0.2764 - val_accuracy: 0.9233\n",
      "Epoch 184/200\n",
      "375/375 [==============================] - 1s 3ms/step - loss: 0.2783 - accuracy: 0.9229 - val_loss: 0.2763 - val_accuracy: 0.9234\n",
      "Epoch 185/200\n",
      "375/375 [==============================] - 1s 3ms/step - loss: 0.2781 - accuracy: 0.9227 - val_loss: 0.2763 - val_accuracy: 0.9235\n",
      "Epoch 186/200\n",
      "375/375 [==============================] - 1s 2ms/step - loss: 0.2780 - accuracy: 0.9227 - val_loss: 0.2762 - val_accuracy: 0.9233\n",
      "Epoch 187/200\n",
      "375/375 [==============================] - 1s 3ms/step - loss: 0.2779 - accuracy: 0.9227 - val_loss: 0.2761 - val_accuracy: 0.9233\n",
      "Epoch 188/200\n",
      "375/375 [==============================] - 1s 3ms/step - loss: 0.2778 - accuracy: 0.9227 - val_loss: 0.2760 - val_accuracy: 0.9233\n",
      "Epoch 189/200\n",
      "375/375 [==============================] - 1s 3ms/step - loss: 0.2776 - accuracy: 0.9228 - val_loss: 0.2760 - val_accuracy: 0.9236\n",
      "Epoch 190/200\n",
      "375/375 [==============================] - 1s 3ms/step - loss: 0.2775 - accuracy: 0.9228 - val_loss: 0.2760 - val_accuracy: 0.9234\n",
      "Epoch 191/200\n",
      "375/375 [==============================] - 1s 3ms/step - loss: 0.2774 - accuracy: 0.9228 - val_loss: 0.2758 - val_accuracy: 0.9234\n",
      "Epoch 192/200\n",
      "375/375 [==============================] - 1s 3ms/step - loss: 0.2772 - accuracy: 0.9231 - val_loss: 0.2757 - val_accuracy: 0.9236\n",
      "Epoch 193/200\n",
      "375/375 [==============================] - 1s 2ms/step - loss: 0.2771 - accuracy: 0.9230 - val_loss: 0.2757 - val_accuracy: 0.9233\n",
      "Epoch 194/200\n",
      "375/375 [==============================] - 1s 3ms/step - loss: 0.2770 - accuracy: 0.9231 - val_loss: 0.2756 - val_accuracy: 0.9234\n",
      "Epoch 195/200\n",
      "375/375 [==============================] - 1s 3ms/step - loss: 0.2769 - accuracy: 0.9230 - val_loss: 0.2755 - val_accuracy: 0.9237\n",
      "Epoch 196/200\n",
      "375/375 [==============================] - 1s 3ms/step - loss: 0.2767 - accuracy: 0.9233 - val_loss: 0.2754 - val_accuracy: 0.9234\n",
      "Epoch 197/200\n",
      "375/375 [==============================] - 1s 3ms/step - loss: 0.2766 - accuracy: 0.9233 - val_loss: 0.2753 - val_accuracy: 0.9238\n",
      "Epoch 198/200\n",
      "375/375 [==============================] - 1s 2ms/step - loss: 0.2765 - accuracy: 0.9231 - val_loss: 0.2753 - val_accuracy: 0.9237\n",
      "Epoch 199/200\n",
      "375/375 [==============================] - 1s 3ms/step - loss: 0.2763 - accuracy: 0.9234 - val_loss: 0.2752 - val_accuracy: 0.9233\n",
      "Epoch 200/200\n",
      "375/375 [==============================] - 1s 3ms/step - loss: 0.2762 - accuracy: 0.9234 - val_loss: 0.2751 - val_accuracy: 0.9233\n"
     ]
    },
    {
     "data": {
      "text/plain": [
       "<keras.src.callbacks.History at 0x145567f34d0>"
      ]
     },
     "execution_count": 37,
     "metadata": {},
     "output_type": "execute_result"
    }
   ],
   "source": [
    "model.fit(X_train, Y_train, batch_size=BATCH_SIZE, epochs=EPOCHS, verbose=VERBOSE, validation_split=VALIDATION_SPLIT)"
   ]
  },
  {
   "cell_type": "code",
   "execution_count": 38,
   "metadata": {},
   "outputs": [
    {
     "name": "stdout",
     "output_type": "stream",
     "text": [
      "313/313 [==============================] - 1s 2ms/step - loss: 0.2775 - accuracy: 0.9213\n",
      "Test accuracy: 0.9212999939918518\n"
     ]
    }
   ],
   "source": [
    "#evaluate the model\n",
    "test_loss, test_acc = model.evaluate(X_test, Y_test)\n",
    "print('Test accuracy:', test_acc)"
   ]
  }
 ],
 "metadata": {
  "kernelspec": {
   "display_name": "Python 3 (ipykernel)",
   "language": "python",
   "name": "python3"
  },
  "language_info": {
   "codemirror_mode": {
    "name": "ipython",
    "version": 3
   },
   "file_extension": ".py",
   "mimetype": "text/x-python",
   "name": "python",
   "nbconvert_exporter": "python",
   "pygments_lexer": "ipython3",
   "version": "3.11.4"
  }
 },
 "nbformat": 4,
 "nbformat_minor": 4
}
